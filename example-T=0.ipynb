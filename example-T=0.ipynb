{
 "cells": [
  {
   "cell_type": "markdown",
   "metadata": {},
   "source": [
    "# Anomaly-free theories with $T=0$\n",
    "\n",
    "This notebook explores the accompanying data of anomaly-free theories with no tensor multiplets, exemplifying the \"helper\" functions in `helper.py`.\n",
    "\n",
    "The data files consist of the following:\n",
    "  - **Irreps:**\n",
    "\n",
    "    Information about irreps (`[irrep-ID] [H] [A] [B] [C] [quaternionic] [highest-weight vector]`) is stored for each simple group in a separate file.\n",
    "    Irrep IDs have the general structure `irr-[group-ID]-[dim R]`. If there are multiple irreps of the same dimension then a latin label has been added: for example for $\\mathrm{SO}(8)$ `irr-D4-8a` is $\\mathbf{\\underline{8}_\\mathrm{v}}$ while `irr-D4-8b` is $\\mathbf{\\underline{8}_\\mathrm{s}}$. If the irrep is quanternionic and free of Witten anomalies then its ID has an additional tag `-h`, all of $H$, $A$, $B$ and $C$ have been divided by two and multiplicies always refer to number of half-hypermultiplets. For example, `irr-E7-56-h` has $H=28$ and `3 x (irr-E7-56-h)` should be interpreted as $\\frac{3}{2}\\times\\mathbf{\\underline{56}}$.\n",
    "\n",
    "  - **Vertices:**\n",
    "\n",
    "    Vertices (`[vertex-ID] [Δ] [bi.bi] [b0.bi] [hypers]`) are similarly stored separated for each simple group. Vertex IDs have the structure `vtx-[group-ID]-[Δ]-[bi.bi]-[b0.bi]`, plus an identifying latin label `-[latin]` if there are multiple vertices with identical group, $\\Delta=H-V$, $b_i\\cdot b_i$ and $b_0\\cdot b_i$ but different hypers. Information about hypers is stored as `nR x (irrep-ID) + ...`, for example `9 x (irr-E6-27) + 1 x (irr-E6-78)`.\n",
    "\n",
    "  - **Irreducible cliques:**\n",
    "\n",
    "    Irreducible cliques (`[clique-ID] [vertex-IDs] [Δ] [Δ+28n] [T-min] [signature] [bi.bi] [b0.bi] [hypers]`) for $T=0$ are stored separately by the number of vertices, $k$. Clique IDs have the structure `clq-[numA/B]-[signature]-[Δ]-[hash]`, where `numA/B` is the number of type-A and type-B vertices (for $T=0$ there are only type-A vertices present), `signature` is the number of positive and negative eigenvalues of the $k\\times k$ matrix $b_i\\cdot b_j$ and `hash` is to ensure the ID is unique."
   ]
  },
  {
   "cell_type": "markdown",
   "metadata": {},
   "source": [
    "### Set-up"
   ]
  },
  {
   "cell_type": "code",
   "execution_count": null,
   "metadata": {},
   "outputs": [],
   "source": [
    "import numpy as np\n",
    "import glob\n",
    "from src import helper"
   ]
  },
  {
   "cell_type": "code",
   "execution_count": null,
   "metadata": {},
   "outputs": [],
   "source": [
    "folder = './data-T=0'   # For displaying/fetching irrep/vertex data from files\n",
    "files = glob.glob('./data-T=0/cliques-anomaly-free/cliques_A=*.tsv')    # For loading in irreducible cliques"
   ]
  },
  {
   "cell_type": "markdown",
   "metadata": {},
   "source": [
    "### Irreps\n",
    "View irreps for a specified simple group with `helper.display_irreps()`."
   ]
  },
  {
   "cell_type": "code",
   "execution_count": null,
   "metadata": {},
   "outputs": [],
   "source": [
    "helper.display_irreps('C', 4, folder)"
   ]
  },
  {
   "cell_type": "markdown",
   "metadata": {},
   "source": [
    "### Vertices\n",
    "\n",
    "Vertex data can be loaded for a given simple group using `helper.get_vertex_data()`. The data are returned as a NumPy structured array with the fields `'ID'`, `'delta'` (for $\\Delta=H-V$), `'bibi'`, `'b0bi'` and `'hypers'`. For each vertex, `hypers` itself is also a structured array with the fields `'nR'` and `'irrep'`."
   ]
  },
  {
   "cell_type": "code",
   "execution_count": null,
   "metadata": {},
   "outputs": [],
   "source": [
    "vertices = helper.get_vertex_data('A', 10, folder)\n",
    "print(len(vertices))\n",
    "\n",
    "print('\\nID:', vertices['ID'])\n",
    "print('delta:', vertices['delta'])\n",
    "print('bibi:', vertices['bibi'])\n",
    "print('b0bi:', vertices['b0bi'])\n",
    "\n",
    "print('hypers:')\n",
    "for vertex in vertices:\n",
    "    print('  ', vertex['hypers'])"
   ]
  },
  {
   "cell_type": "markdown",
   "metadata": {},
   "source": [
    "It is easy enough to find all vertices which contain a particular irrep:"
   ]
  },
  {
   "cell_type": "code",
   "execution_count": null,
   "metadata": {},
   "outputs": [],
   "source": [
    "irrep = 'irr-A4-105'\n",
    "\n",
    "group_ID = irrep.split('-')[1]\n",
    "vertex_data = helper.get_vertex_data(group_ID[0], int(group_ID[1:]), folder)\n",
    "contains_irrep = [irrep in vtx['hypers']['irrep'] for vtx in vertex_data]\n",
    "vertices_w_irrep = vertex_data[contains_irrep]\n",
    "\n",
    "print(f'{group_ID} vertices: {len(vertex_data)}')\n",
    "print(f'with {irrep}: {len(vertices_w_irrep)}')"
   ]
  },
  {
   "cell_type": "code",
   "execution_count": null,
   "metadata": {},
   "outputs": [],
   "source": [
    "for vertex in vertices_w_irrep:\n",
    "    hypers_string = ' + '.join([f'{nR} x ({irr})' for nR, irr in vertex['hypers']])\n",
    "    print(vertex['ID'], '\\t', hypers_string)"
   ]
  },
  {
   "cell_type": "markdown",
   "metadata": {},
   "source": [
    "### Cliques\n",
    "\n",
    "Cliques can be loaded from a given file using `helper.get_irreducible_cliques()`. For $T=0$ there are few enough cliques that all of them can be loaded in simultaneously."
   ]
  },
  {
   "cell_type": "code",
   "execution_count": null,
   "metadata": {},
   "outputs": [],
   "source": [
    "cliques = [helper.get_irreducible_cliques(file) for file in files]\n",
    "print([len(aa) for aa in cliques])\n",
    "\n",
    "cliques = [aa for bb in cliques for aa in bb]\n",
    "print(len(cliques))"
   ]
  },
  {
   "cell_type": "markdown",
   "metadata": {},
   "source": [
    "All information about an irreducible clique can be viewed by calling `display()`."
   ]
  },
  {
   "cell_type": "code",
   "execution_count": null,
   "metadata": {},
   "outputs": [],
   "source": [
    "clq = np.random.choice(cliques)\n",
    "clq.display()"
   ]
  },
  {
   "cell_type": "markdown",
   "metadata": {},
   "source": [
    "Any list of cliques can be filtered to those containing particular vertices.\n",
    "\n",
    "For example, using the vertices which contain a particular irrep from above:"
   ]
  },
  {
   "cell_type": "code",
   "execution_count": null,
   "metadata": {},
   "outputs": [],
   "source": [
    "cliques_w_irrep = helper.filter_irreducible_cliques_by_vertex(cliques, vertices_w_irrep['ID'], 'any')\n",
    "print(len(cliques_w_irrep))"
   ]
  },
  {
   "cell_type": "code",
   "execution_count": null,
   "metadata": {},
   "outputs": [],
   "source": [
    "for clq in cliques_w_irrep:\n",
    "    clq.display()"
   ]
  },
  {
   "cell_type": "markdown",
   "metadata": {},
   "source": [
    "By switching `'any'` to `'all'` we can filter to cliques which contain *all* vertices (with multiplicity) from the supplied list of IDs:"
   ]
  },
  {
   "cell_type": "code",
   "execution_count": null,
   "metadata": {},
   "outputs": [],
   "source": [
    "vertex_IDs = ['vtx-A03-149-4-6', 'vtx-D07-233-4-6']\n",
    "# vertex_IDs = ['vtx-A03-233-16-12', 'vtx-A03-233-16-12']\n",
    "# vertex_IDs = ['vtx-A03-83-1-3', 'vtx-A03-149-4-6', 'vtx-B03-156-4-6', 'vtx-C02-143-4-6']\n",
    "\n",
    "cliques_w_vertices = helper.filter_irreducible_cliques_by_vertex(cliques, vertex_IDs, 'all')\n",
    "print(len(cliques_w_vertices))"
   ]
  },
  {
   "cell_type": "code",
   "execution_count": null,
   "metadata": {},
   "outputs": [],
   "source": [
    "for clq in cliques_w_vertices:\n",
    "    clq.display()"
   ]
  },
  {
   "cell_type": "markdown",
   "metadata": {},
   "source": [
    "Cliques can also be filtered to those containing a particular gauge group, either exactly..."
   ]
  },
  {
   "cell_type": "code",
   "execution_count": null,
   "metadata": {},
   "outputs": [],
   "source": [
    "gauge_group = 'SU(5) x Sp(3) x SO(11)'\n",
    "# gauge_group = 'SU(4) x SO(13)'\n",
    "# gauge_group = 'F(4)'\n",
    "# gauge_group = 'Sp(2) x Sp(2) x Sp(2) x Sp(2) x Sp(2) x Sp(2)'\n",
    "# gauge_group = 'SU(7) x SU(7) x SU(7) x SU(7)'\n",
    "# gauge_group = 'SU(24)'\n",
    "\n",
    "cliques_w_group = helper.filter_irreducible_cliques_by_gauge_group(cliques, gauge_group, exact=True)\n",
    "len(cliques_w_group)"
   ]
  },
  {
   "cell_type": "code",
   "execution_count": null,
   "metadata": {},
   "outputs": [],
   "source": [
    "for clique in cliques_w_group:\n",
    "    clique.display()"
   ]
  },
  {
   "cell_type": "markdown",
   "metadata": {},
   "source": [
    "...or as a subgroup"
   ]
  },
  {
   "cell_type": "code",
   "execution_count": null,
   "metadata": {},
   "outputs": [],
   "source": [
    "gauge_group = 'SU(7) x SU(7) x SU(7)'\n",
    "# gauge_group = 'SU(4) x F(4)'\n",
    "# gauge_group = 'SO(7) x G(2) x G(2)'\n",
    "\n",
    "cliques_w_group = helper.filter_irreducible_cliques_by_gauge_group(cliques, gauge_group, exact=False)\n",
    "len(cliques_w_group)"
   ]
  },
  {
   "cell_type": "code",
   "execution_count": null,
   "metadata": {},
   "outputs": [],
   "source": [
    "for clique in cliques_w_group:\n",
    "    clique.display()"
   ]
  }
 ],
 "metadata": {
  "kernelspec": {
   "display_name": "base",
   "language": "python",
   "name": "python3"
  },
  "language_info": {
   "codemirror_mode": {
    "name": "ipython",
    "version": 3
   },
   "file_extension": ".py",
   "mimetype": "text/x-python",
   "name": "python",
   "nbconvert_exporter": "python",
   "pygments_lexer": "ipython3",
   "version": "3.9.16"
  },
  "orig_nbformat": 4
 },
 "nbformat": 4,
 "nbformat_minor": 2
}
